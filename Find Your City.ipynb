{
 "cells": [
  {
   "cell_type": "code",
   "execution_count": 5,
   "metadata": {},
   "outputs": [],
   "source": [
    "from lifelinescrape import find_lifelines\n",
    "from googleplaces import GooglePlaces\n",
    "\n",
    "GOOGLE_API_KEY = open('API_TEXT_FILE_LOCATION.txt').read()[:-1]\n",
    "google_places = GooglePlaces(GOOGLE_API_KEY)\n",
    "\n",
    "find_lifelines('YOUR CITY HERE', google_places)"
   ]
  },
  {
   "cell_type": "code",
   "execution_count": null,
   "metadata": {},
   "outputs": [],
   "source": []
  }
 ],
 "metadata": {
  "kernelspec": {
   "display_name": "Python 3",
   "language": "python",
   "name": "python3"
  },
  "language_info": {
   "codemirror_mode": {
    "name": "ipython",
    "version": 3
   },
   "file_extension": ".py",
   "mimetype": "text/x-python",
   "name": "python",
   "nbconvert_exporter": "python",
   "pygments_lexer": "ipython3",
   "version": "3.6.8"
  }
 },
 "nbformat": 4,
 "nbformat_minor": 2
}
